{
  "nbformat": 4,
  "nbformat_minor": 0,
  "metadata": {
    "colab": {
      "name": "jenscode.ipynb",
      "provenance": [],
      "collapsed_sections": [],
      "include_colab_link": true
    },
    "kernelspec": {
      "name": "python3",
      "display_name": "Python 3"
    },
    "accelerator": "TPU"
  },
  "cells": [
    {
      "cell_type": "markdown",
      "metadata": {
        "id": "view-in-github",
        "colab_type": "text"
      },
      "source": [
        "<a href=\"https://colab.research.google.com/github/sw-hacker/programs_for_apo/blob/master/three_plus_person_pairing.ipynb\" target=\"_parent\"><img src=\"https://colab.research.google.com/assets/colab-badge.svg\" alt=\"Open In Colab\"/></a>"
      ]
    },
    {
      "cell_type": "markdown",
      "metadata": {
        "id": "nadR-bHPhVgu",
        "colab_type": "text"
      },
      "source": [
        "First for the full experience turn on corgi mode (Tools->Preferences->Miscellaneous). This is essential to run the code. I cannot stress it enough. \n",
        "\n",
        "\n",
        "Next you must edit your comma separated value (csv) file. These commas can get tricky, so you must remove any cell where a person could enter a comma.\n",
        "\n",
        "Now open the .csv file in a text editor and replace all quotation marks (\") with blanks ().\n",
        "\n",
        "You are all set to run the code. Upload the csv file in the tab to the side as the name \"GKYB for code.csv\". Alternatively you can change the name in the code (line 5)\n"
      ]
    },
    {
      "cell_type": "markdown",
      "metadata": {
        "id": "khHilYmhNkE-",
        "colab_type": "text"
      },
      "source": [
        "You can change the weight on line 5. It exponentially increases reliance on participant questions. If you go too high, it overcomes the program choosing people with overall low matching first. "
      ]
    },
    {
      "cell_type": "code",
      "metadata": {
        "id": "qjelqUmoYBJO",
        "colab_type": "code",
        "outputId": "eda279e4-7846-4be9-e83d-e347795f8f5c",
        "colab": {
          "base_uri": "https://localhost:8080/",
          "height": 357
        }
      },
      "source": [
        "import numpy as np\n",
        "import csv\n",
        "\n",
        "csv_file_name = \"GKYB for code.csv\"\n",
        "weight = 3\n",
        "group_size = 3                #Must be 3 (Can be made to do groups of 4 quicky)\n",
        "\n",
        "#MAIN\n",
        "#Read in the Raw CSV file, data is stored in csv_data as an array\n",
        "with open(csv_file_name, 'r') as f:\n",
        "  reader = csv.reader(f, skipinitialspace=True, delimiter=',')\n",
        "  headers = next(reader)\n",
        "  csv_data = list(reader)\n",
        "  pad = len(max(csv_data, key=len))\n",
        "  csv_data_array = np.array([i + [0]*(pad-len(i)) for i in csv_data]).astype(str)\n",
        "\n",
        "#Fill in person_cross_scores_array with scores using two for loops\n",
        "person_cross_scores_array = np.ones((csv_data_array.shape[0], csv_data_array.shape[0]))\n",
        "for j in range(person_cross_scores_array.shape[0]):\n",
        "  for i in range(j+1):\n",
        "    if(i == j): \n",
        "      person_cross_scores_array[i][j] = -10000*weight*weight*weight\n",
        "    else:\n",
        "      for k in range(5):\n",
        "        if csv_data_array[i][k+1] == csv_data_array[j][k+1]:\n",
        "          person_cross_scores_array[i][j] *= weight\n",
        "      if ((csv_data_array[i][0] in csv_data_array[j].tolist()) or\n",
        "          (csv_data_array[j][0] in csv_data_array[i].tolist())):\n",
        "        person_cross_scores_array[i][j] = -1000*weight*weight*weight\n",
        "      person_cross_scores_array[j][i] = person_cross_scores_array[i][j]\n",
        "\n",
        "#Fill pairing_array choosing people with lowest match scores first\n",
        "pairing_array = np.empty((int(csv_data_array.shape[0]/group_size), group_size+2), dtype=object)\n",
        "for n in range(pairing_array.shape[0]):\n",
        "  #find lowest and store name\n",
        "  lowest = np.array([10000,0])\n",
        "  for m in range(person_cross_scores_array.shape[0]):\n",
        "     if np.sum(person_cross_scores_array[m]) < lowest[0]:\n",
        "       lowest[0] = np.sum(person_cross_scores_array[m])\n",
        "       lowest[1] = m\n",
        "  pairing_array[n][0] = csv_data_array[lowest[1]][0]\n",
        "\n",
        "  #get best match\n",
        "  best = np.array([0,0])\n",
        "  for m in range(person_cross_scores_array.shape[0]):\n",
        "    if  person_cross_scores_array[lowest[1]][m] > best[0]:\n",
        "      best[0] = person_cross_scores_array[lowest[1]][m]\n",
        "      best[1] = m\n",
        "  pairing_array[n][1] = csv_data_array[best[1]][0]\n",
        "  pairing_array[n][2] = best[0]\n",
        "\n",
        "  #get best double match\n",
        "  double_best = np.array([-50,0])\n",
        "  for m in range(person_cross_scores_array.shape[0]):\n",
        "    if (person_cross_scores_array[lowest[1]][m]+\n",
        "        person_cross_scores_array[best[1]][m]) > double_best[0]:\n",
        "      double_best[0] = (person_cross_scores_array[lowest[1]][m]+\n",
        "                        person_cross_scores_array[best[1]][m])\n",
        "      double_best[1] = m\n",
        "  pairing_array[n][3] = csv_data_array[double_best[1]][0]\n",
        "  pairing_array[n][4] = double_best[0]\n",
        "\n",
        "  #get second best double match for groups of four\n",
        "  \n",
        "\n",
        "  #remove row and column of all three/four chosen\n",
        "  delete_array = ([lowest[1],best[1],double_best[1]])\n",
        "  delete_array.sort(reverse = True)\n",
        "\n",
        "  for x in range(len(delete_array)):\n",
        "    csv_data_array = np.delete(csv_data_array, delete_array[x], 0)\n",
        "    person_cross_scores_array = np.delete(person_cross_scores_array, delete_array[x], 0)\n",
        "    person_cross_scores_array = np.delete(person_cross_scores_array, delete_array[x], 1)\n",
        "  \n",
        "\n",
        "print(\"Pairs\")\n",
        "print(pairing_array)\n",
        "print(\"Unpaired\")\n",
        "print(csv_data_array[:,0])"
      ],
      "execution_count": 0,
      "outputs": [
        {
          "output_type": "stream",
          "text": [
            "Pairs\n",
            "[['Phoenix Delaney' 'Jennifer Leung' 81 'Victoria Kupper' 108]\n",
            " ['Jason Zheng' 'Madi Maritato' 27 'Kristen Wells' 90]\n",
            " ['David Lu' 'Tom Chaney' 81 'Victoria Johnson' 108]\n",
            " ['Clay Johnson' 'allie pazdzior' 81 'Lindsay Borger' 108]\n",
            " ['Blake Cecil' 'Alexia Milligan' 27 'Ivanka Rainer' 54]\n",
            " ['Joseph Walden' 'Simone Krein' 243 'Urooj Nasim' 54]\n",
            " ['Kaan Celik' 'Kaitlyn Johnson' 81 'Madison Von Deylen' 54]\n",
            " ['Sabrina Dearinger' 'Sam Hacker' 243 'Katie Alexander ' 162]\n",
            " ['Adan Deeb' 'Matthew Zachman' 27 'Lauren Hudson' 54]\n",
            " ['Tessa Tyo' 'Courtney Sexton' 81 'Grace Riedmatter ' 108]\n",
            " ['Michael Di Girolamo' 'Cali Pfalzer ' 81 'Jake Maynard ' 108]\n",
            " ['Kerry Knight' 'Lauren Sammons' 27 'Tori Ragsdale ' 54]\n",
            " ['Ahmed Hamad' 'Meghan Clark ' 9 'Heyna. Suit' 90]\n",
            " ['Jason Midkiff' 'Ahmad Hakoum' 27 'Abby Collins' 18]\n",
            " ['Emily Keaton' 'Lydia Fletcher' 27 'Abbie Keen' 18]\n",
            " ['Addison Lander' 'Kiley Alcorn' 9 'Erin Vastag' 84]\n",
            " ['Taylor Senay' 'Chris Whalen' 9 'Rachel Sheffer' 36]]\n",
            "Unpaired\n",
            "[]\n"
          ],
          "name": "stdout"
        }
      ]
    }
  ]
}