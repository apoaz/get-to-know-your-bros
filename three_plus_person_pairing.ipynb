{
  "nbformat": 4,
  "nbformat_minor": 0,
  "metadata": {
    "colab": {
      "name": "jenscode.ipynb",
      "provenance": [],
      "collapsed_sections": [],
      "include_colab_link": true
    },
    "kernelspec": {
      "name": "python3",
      "display_name": "Python 3"
    },
    "accelerator": "TPU"
  },
  "cells": [
    {
      "cell_type": "markdown",
      "metadata": {
        "id": "view-in-github",
        "colab_type": "text"
      },
      "source": [
        "<a href=\"https://colab.research.google.com/github/sw-hacker/programs_for_apo/blob/master/three_plus_person_pairing.ipynb\" target=\"_parent\"><img src=\"https://colab.research.google.com/assets/colab-badge.svg\" alt=\"Open In Colab\"/></a>"
      ]
    },
    {
      "cell_type": "markdown",
      "metadata": {
        "id": "nadR-bHPhVgu",
        "colab_type": "text"
      },
      "source": [
        "First for the full experience turn on corgi mode (Tools->Preferences->Miscellaneous). This is essential to run the code. I cannot stress it enough. \n",
        "\n",
        "\n",
        "Next you must edit your comma separated value (csv) file. These commas can get tricky, so you must remove any cell where a person could enter a comma.\n",
        "\n",
        "Now open the .csv file in a text editor and replace all quotation marks (\") with blanks ().\n",
        "\n",
        "You are all set to run the code. Upload the csv file in the tab to the side as the name \"GKYB for code.csv\". Alternatively you can change the name in the code (line 5)\n"
      ]
    },
    {
      "cell_type": "markdown",
      "metadata": {
        "id": "khHilYmhNkE-",
        "colab_type": "text"
      },
      "source": [
        "You can change the weight on line 5. It exponentially increases reliance on participant questions. If you go too high, it overcomes the program choosing people with overall low matching first. "
      ]
    },
    {
      "cell_type": "code",
      "metadata": {
        "id": "qjelqUmoYBJO",
        "colab_type": "code",
        "outputId": "c7073aad-ed57-4ab4-c584-e6f6f87e6fd9",
        "colab": {
          "base_uri": "https://localhost:8080/",
          "height": 252
        }
      },
      "source": [
        "import numpy as np\n",
        "import csv\n",
        "\n",
        "csv_file_name = \"GKYB for code.csv\"\n",
        "weight = 3\n",
        "group_size = 3                #Must be 3 (Can be made to do groups of 4 quicky)\n",
        "\n",
        "#MAIN\n",
        "#Read in the Raw CSV file, data is stored in csv_data as an array\n",
        "with open(csv_file_name, 'r') as f:\n",
        "  reader = csv.reader(f, skipinitialspace=True, delimiter=',')\n",
        "  headers = next(reader)\n",
        "  csv_data = list(reader)\n",
        "  pad = len(max(csv_data, key=len))\n",
        "  csv_data_array = np.array([i + [0]*(pad-len(i)) for i in csv_data]).astype(str)\n",
        "\n",
        "#Fill in person_cross_scores_array with scores using two for loops\n",
        "person_cross_scores_array = np.ones((csv_data_array.shape[0], csv_data_array.shape[0]))\n",
        "for j in range(person_cross_scores_array.shape[0]):\n",
        "  for i in range(j+1):\n",
        "    if(i == j): \n",
        "      person_cross_scores_array[i][j] = -10000*weight*weight*weight\n",
        "    else:\n",
        "      for k in range(5):\n",
        "        if csv_data_array[i][k+1] == csv_data_array[j][k+1]:\n",
        "          person_cross_scores_array[i][j] *= weight\n",
        "      if ((csv_data_array[i][0] in csv_data_array[j].tolist()) or\n",
        "          (csv_data_array[j][0] in csv_data_array[i].tolist())):\n",
        "        person_cross_scores_array[i][j] = -1000*weight*weight*weight\n",
        "      person_cross_scores_array[j][i] = person_cross_scores_array[i][j]\n",
        "\n",
        "#Fill pairing_array choosing people with lowest match scores first\n",
        "pairing_array = np.empty((int(csv_data_array.shape[0]/group_size), group_size+2), dtype=object)\n",
        "for n in range(pairing_array.shape[0]):\n",
        "  #find lowest and store name\n",
        "  lowest = np.array([10000,0])\n",
        "  for m in range(person_cross_scores_array.shape[0]):\n",
        "     if np.sum(person_cross_scores_array[m]) < lowest[0]:\n",
        "       lowest[0] = np.sum(person_cross_scores_array[m])\n",
        "       lowest[1] = m\n",
        "  pairing_array[n][0] = csv_data_array[lowest[1]][0]\n",
        "\n",
        "  #get best match\n",
        "  best = np.array([0,0])\n",
        "  for m in range(person_cross_scores_array.shape[0]):\n",
        "    if  person_cross_scores_array[lowest[1]][m] > best[0]:\n",
        "      best[0] = person_cross_scores_array[lowest[1]][m]\n",
        "      best[1] = m\n",
        "  pairing_array[n][1] = csv_data_array[best[1]][0]\n",
        "  pairing_array[n][2] = best[0]\n",
        "\n",
        "  #get best double match\n",
        "  double_best = np.array([-50,0])\n",
        "  for m in range(person_cross_scores_array.shape[0]):\n",
        "    if (person_cross_scores_array[lowest[1]][m]+\n",
        "        person_cross_scores_array[best[1]][m]) > double_best[0]:\n",
        "      double_best[0] = (person_cross_scores_array[lowest[1]][m]+\n",
        "                        person_cross_scores_array[best[1]][m])\n",
        "      double_best[1] = m\n",
        "  pairing_array[n][3] = csv_data_array[double_best[1]][0]\n",
        "  pairing_array[n][4] = double_best[0]\n",
        "\n",
        "  #get second best double match for groups of four\n",
        "  \n",
        "\n",
        "  #remove row and column of all three/four chosen\n",
        "  delete_array = ([lowest[1],best[1],double_best[1]])\n",
        "  delete_array.sort(reverse = True)\n",
        "\n",
        "  for x in range(len(delete_array)):\n",
        "    csv_data_array = np.delete(csv_data_array, delete_array[x], 0)\n",
        "    person_cross_scores_array = np.delete(person_cross_scores_array, delete_array[x], 0)\n",
        "    person_cross_scores_array = np.delete(person_cross_scores_array, delete_array[x], 1)\n",
        "  \n",
        "\n",
        "print(\"Pairs\")\n",
        "print(pairing_array)\n",
        "print(\"Unpaired\")\n",
        "print(csv_data_array[:,0])"
      ],
      "execution_count": 1,
      "outputs": [
        {
          "output_type": "error",
          "ename": "FileNotFoundError",
          "evalue": "ignored",
          "traceback": [
            "\u001b[0;31m---------------------------------------------------------------------------\u001b[0m",
            "\u001b[0;31mFileNotFoundError\u001b[0m                         Traceback (most recent call last)",
            "\u001b[0;32m<ipython-input-1-d093c7b7807b>\u001b[0m in \u001b[0;36m<module>\u001b[0;34m()\u001b[0m\n\u001b[1;32m      8\u001b[0m \u001b[0;31m#MAIN\u001b[0m\u001b[0;34m\u001b[0m\u001b[0;34m\u001b[0m\u001b[0;34m\u001b[0m\u001b[0m\n\u001b[1;32m      9\u001b[0m \u001b[0;31m#Read in the Raw CSV file, data is stored in csv_data as an array\u001b[0m\u001b[0;34m\u001b[0m\u001b[0;34m\u001b[0m\u001b[0;34m\u001b[0m\u001b[0m\n\u001b[0;32m---> 10\u001b[0;31m \u001b[0;32mwith\u001b[0m \u001b[0mopen\u001b[0m\u001b[0;34m(\u001b[0m\u001b[0mcsv_file_name\u001b[0m\u001b[0;34m,\u001b[0m \u001b[0;34m'r'\u001b[0m\u001b[0;34m)\u001b[0m \u001b[0;32mas\u001b[0m \u001b[0mf\u001b[0m\u001b[0;34m:\u001b[0m\u001b[0;34m\u001b[0m\u001b[0;34m\u001b[0m\u001b[0m\n\u001b[0m\u001b[1;32m     11\u001b[0m   \u001b[0mreader\u001b[0m \u001b[0;34m=\u001b[0m \u001b[0mcsv\u001b[0m\u001b[0;34m.\u001b[0m\u001b[0mreader\u001b[0m\u001b[0;34m(\u001b[0m\u001b[0mf\u001b[0m\u001b[0;34m,\u001b[0m \u001b[0mskipinitialspace\u001b[0m\u001b[0;34m=\u001b[0m\u001b[0;32mTrue\u001b[0m\u001b[0;34m,\u001b[0m \u001b[0mdelimiter\u001b[0m\u001b[0;34m=\u001b[0m\u001b[0;34m','\u001b[0m\u001b[0;34m)\u001b[0m\u001b[0;34m\u001b[0m\u001b[0;34m\u001b[0m\u001b[0m\n\u001b[1;32m     12\u001b[0m   \u001b[0mheaders\u001b[0m \u001b[0;34m=\u001b[0m \u001b[0mnext\u001b[0m\u001b[0;34m(\u001b[0m\u001b[0mreader\u001b[0m\u001b[0;34m)\u001b[0m\u001b[0;34m\u001b[0m\u001b[0;34m\u001b[0m\u001b[0m\n",
            "\u001b[0;31mFileNotFoundError\u001b[0m: [Errno 2] No such file or directory: 'GKYB for code.csv'"
          ]
        }
      ]
    }
  ]
}